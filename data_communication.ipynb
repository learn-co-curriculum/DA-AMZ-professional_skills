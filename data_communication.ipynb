{
 "cells": [
  {
   "cell_type": "markdown",
   "id": "291e708e-42c1-42ab-91e1-29112e23cd85",
   "metadata": {},
   "source": [
    "# Week 4: Professional Skills for Data Analytics: Data Communication"
   ]
  },
  {
   "cell_type": "markdown",
   "id": "b01960ab-b6a0-45d1-90fe-d0d3171648bc",
   "metadata": {},
   "source": [
    "![](./images/laptop_explanation.jpg)"
   ]
  },
  {
   "cell_type": "markdown",
   "id": "ef425d81-f0d0-4150-b37d-df014cf4f529",
   "metadata": {},
   "source": [
    "#### Last class we went over:\n",
    "\n",
    "Commonly agreed upon style conventions for writing Python code:\n",
    "* **PEP 8 : Conventions for standard readability**\n",
    "    - Whitespace\n",
    "    - Line length\n",
    "    - Variable names\n",
    "    - Indentation\n",
    "    - Operator placement\n",
    "* **PEP 257 : Conventions for how to format docstrings AKA function descriptions**\n",
    "    - Single line docstrings\n",
    "    - Multi-line docstrings\n",
    "        - including descriptions of function arguments and parameters\n",
    "Also,        \n",
    "\n",
    "* **The help() function**\n",
    "    - how we can use it to explore function docstrings.\n",
    "    \n",
    "<br>\n",
    "\n",
    "* **Why these things are important**.\n",
    "    - Code/functions will often be shared with other team members or revisited by yourself later so \n",
    "        appropriate documentation that has an emphasis on READABILITY and CLARITY is very important.\n",
    "        Remember to always be simple yet concise.\n",
    "        \n",
    "We also left off with a little poem about \"The Zen of Python\" by Tim Peters:"
   ]
  },
  {
   "cell_type": "code",
   "execution_count": null,
   "id": "713b1e35-0dc9-4641-b061-19e75f3ab082",
   "metadata": {},
   "outputs": [],
   "source": [
    "import this"
   ]
  },
  {
   "cell_type": "markdown",
   "id": "972cefa1-e9fd-4657-8693-7e351b18f853",
   "metadata": {},
   "source": [
    "<br>"
   ]
  },
  {
   "cell_type": "markdown",
   "id": "a3173838-9635-42d5-bbb5-6043bf5aa56f",
   "metadata": {},
   "source": [
    "## A discussion about Hard Skills vs Soft Skills."
   ]
  },
  {
   "cell_type": "markdown",
   "id": "d4c7de28-e70e-4f51-a68c-7b1373151def",
   "metadata": {},
   "source": [
    "### Hard Skills"
   ]
  },
  {
   "cell_type": "markdown",
   "id": "d741c68e-60bb-4f8e-8dab-49f6f7e8d7c9",
   "metadata": {},
   "source": [
    "Hard skills are AKA technical skills. We have been reviewing these exclusively up until now and will continue to expand on these. These are things like \n",
    "* Python\n",
    "* Data Visualization \n",
    "\n",
    "These will be the subject of future lessons coming up.\n",
    "* Data Cleaning \n",
    "* SQL (Structured Query Language, pronounced 'Sequel')\n",
    "* Math & Statistics\n",
    "\n",
    "And many more you may choose to skill yourself in..."
   ]
  },
  {
   "cell_type": "markdown",
   "id": "e916adaf-27ec-47cf-b3a9-e13255dedce0",
   "metadata": {},
   "source": [
    "<br>"
   ]
  },
  {
   "cell_type": "markdown",
   "id": "c2147407-9de1-489e-9fb2-a51a0cf81c42",
   "metadata": {},
   "source": [
    "All of the above technical skills are generally required for data analysts but technical talent alone won’t carry you to a successful career. You could be a stellar data analyst on paper and still find difficulty in getting hired. The reason is simple: Technical capability isn’t the be-all-end-all for aspiring data analysts. There are several softer, non-industry-specific skills data analysts require to succeed. This is where soft skills and the sort of things employed in Data Communication are found."
   ]
  },
  {
   "cell_type": "markdown",
   "id": "eabdaeb5-e7e2-4860-be3d-95c627f350d2",
   "metadata": {},
   "source": [
    "### Soft Skills"
   ]
  },
  {
   "cell_type": "markdown",
   "id": "cb1935ca-6322-43e9-a068-eaaeb46fb95f",
   "metadata": {},
   "source": [
    "#### Critical Thinking"
   ]
  },
  {
   "cell_type": "markdown",
   "id": "8d8068d2-32ab-47ec-9f3f-306138ffc27d",
   "metadata": {},
   "source": [
    "It is not enough to simply look at data; you need to *understand* it and expand on its implications beyond the numbers alone. As a critical thinker, you can think analytically about the data, identify its patterns and extracting useful actionable insight from the information. It requires that you go beyond just processing information but applying thought to it.\n",
    "\n",
    "<br>\n",
    "\n",
    "This can be a difficult task but you can refine these skills by challenging yourself. The next time you find yourself facing some analysis, try to think:\n",
    "\n",
    "- What is the meaning behing the patterns you have found?\n",
    "- What does the data say about what has been accomplished?\n",
    "- What shortfalls or problems does it indicate?\n",
    "\n",
    "**Don't overlook the importance of honing your critical thinking skills when you prepare for a career in data analytics!!**\n"
   ]
  },
  {
   "cell_type": "markdown",
   "id": "8117524d-ecca-43d3-9126-4f9da288044a",
   "metadata": {},
   "source": [
    "#### Communication"
   ]
  },
  {
   "cell_type": "markdown",
   "id": "13a7c083-84fc-4b25-abfc-f77c4c134efc",
   "metadata": {},
   "source": [
    "At the end of the day you will need to be able to explain your findings to others. It doesn’t matter if you’re the most talented, insightful data analyst on the planet — if you can’t communicate the patterns you see to those without technical expertise, you’ve fallen short. \n",
    "\n",
    "Being a good data analyst effectively means becoming “bilingual.” You should have the capability to address fairly technical points with your trained peers, as well as provide clear, high-level explanations in a way that supports — rather than confuses — business-centered decision-makers. Lets go over a few areas of your professional career and doings where communication plays a central role."
   ]
  },
  {
   "cell_type": "markdown",
   "id": "7835b8cf-1822-4b4f-afa8-3eec47f655ba",
   "metadata": {},
   "source": [
    "<br><br><br>"
   ]
  },
  {
   "cell_type": "markdown",
   "id": "c71a50c8-8153-4d0f-bf18-1c6f7b58055e",
   "metadata": {},
   "source": [
    "# Presentation Content\n",
    "\n",
    "## Introduction \n",
    "\n",
    "What counts as presentation content? Anything written or spoken during a presentation! Content includes everything from slide titles to the slide notes that guide your talk. There is no consistent formula for the perfect presentation every time. There are only guidelines for creating _better_ presentation materials.\n",
    "\n",
    "## Objectives\n",
    "\n",
    "- Create a description of the example project's target audience\n",
    "- Connect the presentation components with a narrative arc\n",
    "- List the content sections that are expected in a data science presentation\n",
    "- Create an outline for the presentation\n",
    "\n",
    "## Describing the Target Audience\n",
    "\n",
    "Creating a good presentation is an exercise in empathy: putting yourself in the mindset of the audience before you start to create slides. Before you draft the outline of your presentation, describe the target audience for the presentation by answering these questions:\n",
    "\n",
    "| **Question** | **Example Answer** |\n",
    "|--------------|----------------|\n",
    "| 1. Who will be receiving your presentation, and what is their role in the company? |  Mid-level manager |\n",
    "| 2. What is their background: technical or non-technical? | With a non-technical background |\n",
    "| 3. How will your presentation affect their work or a decision they need to make? | Make wait time shorter, reduce work load, prioritize workload, save lives, etc. |\n",
    "| 4. What is their attention span? | Extremely short |\n",
    "| 5. What is the goal of the presentation? | To convince the manager that your results will have such a large impact on the business, that you should be allowed to continue the future work of your analysis |\n",
    "\n",
    "Every bit of slide content will be filtered through the answers to those questions! \n",
    "\n",
    "**Extremely short attention span?** ---> Concise text, attention grabbing titles, hook in the listener/reader\n",
    "\n",
    "**Non technical background?** ---> Drop jargon, include only the most relevant information\n",
    "\n",
    "**Sign-off on your work continuing?** ---> Focus on the real life impact of your work. Always tie your results to real world numbers and how the answers you provide are solutions to real problems.\n",
    "\n",
    "### What If You Don't Know the Answer?\n",
    "\n",
    "In the Flatiron DA program, just like in the DA industry, sometimes you will just have to make your best guess. Look at the information provided when you are given the project, and infer what you can. Do some Google searching about the domain/industry if you aren't familiar with it, and be prepared to think on the fly.\n",
    "\n",
    "If you don't know the actual person who will be the audience of your presentation, it can be helpful to develop a _persona_ — essentially, a fictional character who represents your audience. Check out [this article](https://www.interaction-design.org/literature/article/personas-why-and-how-you-should-use-them) for more information on personas.\n",
    "\n",
    "## Narrative Arc\n",
    "\n",
    "In storytelling and narration there is conflict, resolution, and the journey in between. Your data science presentation can be arranged the same way. Plus, maintaining a narrative arc throughout your presentation will keep the audience engaged and help them retain information.\n",
    "\n",
    "### Narrative Arc Case Study\n",
    "\n",
    "!['LET ME DRIVE THE BUS' says the pigeon in the book, 'Don't Let the Pigeon Drive the Bus' by Mo Willems](images/dont_let_pidgeon_drive_bus.jpg)\n",
    "\n",
    "A great example of this is the children's book [__Don't Let the Pigeon Drive the Bus!__](http://pigeonpresents.com/books/dont-let-the-pigeon-drive-the-bus/) by Mo Willems. [Here is a link to hear the book read aloud](https://www.youtube.com/watch?v=n-dHeNfXtgc).\n",
    "\n",
    "- Title reveals the main point of the story. It's catchy. It's not __An Observation of Avian Conflict in Transportation Permissions__\n",
    "- Problem is established from the beginning - We've been told by the bus driver that the pigeon wants to drive, but we are not supposed to let him\n",
    "- It's a children's book, so we can assume that a **successful** ending is one where we succeed in not letting the pigeon drive the bus\n",
    "- The book is filled with the pigeon's attempts to convince us to let him drive the bus\n",
    "- The bus driver returns and thanks us for not letting pigeon drive the bus\n",
    "\n",
    "#### How is this related?\n",
    "\n",
    "- Have a catchy title that reveals the answer and your findings\n",
    "- Establish the business problem and scenario at the beginning in detail (the conflict)\n",
    "- With the answer already revealed, go through the most meaningful work that impacted the final result (the journey)\n",
    "- At the end, revisit the original problem and tie the entire presentation together (the resolution and ever after)\n",
    "\n",
    "In practical terms, the narrative arc of your presentation should have three parts:\n",
    "\n",
    "1. Beginning: tell them what you're going to tell them\n",
    "    * The problem\n",
    "    * The solution\n",
    "    * The data and tools you will use to solve it\n",
    "2. Middle: tell them\n",
    "    * A deeper description of the data and relevant variables\n",
    "    * What type of approach your analysis took (descriptive statistics, inferential statistics, prediction, etc.)\n",
    "    * The findings of your analysis\n",
    "3. End: tell them what you told them\n",
    "    * How your solution solves the business problem (i.e. recommendations)\n",
    "    * How much better your solution is than the baseline/status quo\n",
    "    * What impacts your confidence in the solution, limitations\n",
    "    * How to build off your work with next steps and future work\n",
    "\n",
    "### Exercise\n",
    "\n",
    "Before putting anything into the presentation slides, review your notebook to address each section above. Speaking out loud, in _three sentences or less_, what is the information needed for each bullet point?\n",
    "\n",
    "## Drafting an Outline of a Presentation\n",
    "\n",
    "Now that you have all the essential information, you can begin to organize content into an outline. At this point do not worry about what goes on your slide versus what goes in your voice over. This step focuses on pairing **one key point** with **each slide** in your presentation.\n",
    "\n",
    "Use your audience persona to shape what you put in your presentation. A research scientist in the technical department of a company will have more interest in deep statistical tests than the CEO. If you are presenting to a coworker you sit next to, having a contact slide might be weird.\n",
    "\n",
    "With a slide for each point, at a minimum you should have:\n",
    "\n",
    "- [ ] introduction\n",
    "- [ ] business context\n",
    "- [ ] data \n",
    "- [ ] process steps\n",
    "- [ ] results & business application (recommendations)\n",
    "- [ ] evaluation & future improvement ideas\n",
    "- [ ] contact information\n",
    "\n",
    "\n",
    "### Exercise: \n",
    "\n",
    "Take some time to organize the key points of your analysis into an outline.\n"
   ]
  },
  {
   "cell_type": "markdown",
   "id": "c7902142-aeae-406f-b3e3-ec05af2150e0",
   "metadata": {},
   "source": [
    "<br>"
   ]
  },
  {
   "cell_type": "markdown",
   "id": "0988a174-b66d-4124-993d-003932e2b4cb",
   "metadata": {},
   "source": [
    "# Blogging"
   ]
  },
  {
   "cell_type": "markdown",
   "id": "d431001c-086d-4bf8-96e1-a779bcca7ddc",
   "metadata": {},
   "source": [
    "[slide presentation](https://docs.google.com/presentation/d/1Vw7htwORFkRsJ3aX4R3bHG0eKaTKmRL71koiHXCAwAs/edit#slide=id.g919bfc7cd1_0_706)"
   ]
  }
 ],
 "metadata": {
  "kernelspec": {
   "display_name": "Python 3",
   "language": "python",
   "name": "python3"
  },
  "language_info": {
   "codemirror_mode": {
    "name": "ipython",
    "version": 3
   },
   "file_extension": ".py",
   "mimetype": "text/x-python",
   "name": "python",
   "nbconvert_exporter": "python",
   "pygments_lexer": "ipython3",
   "version": "3.8.8"
  }
 },
 "nbformat": 4,
 "nbformat_minor": 5
}
